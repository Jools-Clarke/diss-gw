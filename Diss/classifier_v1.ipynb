{
 "cells": [
  {
   "cell_type": "markdown",
   "id": "838230bb-d7c9-4737-bc07-38882c0fc0af",
   "metadata": {},
   "source": [
    "Title: Timeseries classification from scratch\n",
    "Author: [hfawaz](https://github.com/hfawaz/)\n",
    "Date created: 2020/07/21\n",
    "Last modified: 2021/07/16\n",
    "Description: Training a timeseries classifier from scratch on the FordA dataset from the UCR/UEA archive."
   ]
  },
  {
   "cell_type": "markdown",
   "id": "c8488268-70f1-477a-86a2-7359818bd598",
   "metadata": {},
   "source": [
    "## Introduction\n",
    "This example shows how to do timeseries classification from scratch, starting from raw\n",
    "CSV timeseries files on disk. We demonstrate the workflow on the FordA dataset from the\n",
    "[UCR/UEA archive](https://www.cs.ucr.edu/%7Eeamonn/time_series_data_2018/)."
   ]
  },
  {
   "cell_type": "markdown",
   "id": "f6d23e87-d3f9-4353-940e-e76be2bbad6f",
   "metadata": {},
   "source": [
    "## Setup"
   ]
  },
  {
   "cell_type": "code",
   "execution_count": 28,
   "id": "0dcc2490-2fba-4e61-8e29-f86cf17fc6ba",
   "metadata": {},
   "outputs": [],
   "source": [
    "from tensorflow import keras\n",
    "import numpy as np\n",
    "import matplotlib.pyplot as plt"
   ]
  },
  {
   "cell_type": "markdown",
   "id": "ec575441-5b4e-44ec-9eb6-0010baa6284c",
   "metadata": {},
   "source": [
    "## Load the data: the FordA dataset\n",
    "### Dataset description\n",
    "The dataset we are using here is called FordA.\n",
    "The data comes from the UCR archive.\n",
    "The dataset contains 3601 training instances and another 1320 testing instances.\n",
    "Each timeseries corresponds to a measurement of engine noise captured by a motor sensor.\n",
    "For this task, the goal is to automatically detect the presence of a specific issue with\n",
    "the engine. The problem is a balanced binary classification task. The full description of\n",
    "this dataset can be found [here](http://www.j-wichard.de/publications/FordPaper.pdf).\n",
    "### Read the TSV data\n",
    "We will use the `FordA_TRAIN` file for training and the\n",
    "`FordA_TEST` file for testing. The simplicity of this dataset\n",
    "allows us to demonstrate effectively how to use ConvNets for timeseries classification.\n",
    "In this file, the first column corresponds to the label.\n"
   ]
  },
  {
   "cell_type": "code",
   "execution_count": 51,
   "id": "94d81dcf-0dd7-4327-84d1-52a218d8a594",
   "metadata": {},
   "outputs": [],
   "source": [
    "x_train_blip = np.load(\"test_blip_data.npz\")[\"blip_train\"]\n",
    "y_train_blip = np.zeros_like(x_train_blip)+1\n",
    "x_train_wave = np.load(\"test_blip_data.npz\")[\"blip_train\"]\n",
    "y_train_wave = np.zeros_like(x_train_wave)\n",
    "\n",
    "x_train = np.concatenate((x_train_blip,x_train_wave), axis=0)\n",
    "y_train = np.concatenate((y_train_blip,y_train_wave), axis=0)\n",
    "\n",
    "\n",
    "x_test_blip = np.load(\"test_blip_data.npz\")[\"blip_test\"]\n",
    "y_test_blip = np.zeros_like(x_test_blip)+1\n",
    "x_test_wave = np.load(\"test_blip_data.npz\")[\"blip_test\"]\n",
    "y_test_wave = np.zeros_like(x_test_wave)\n",
    "\n",
    "x_test = np.concatenate((x_test_blip,x_test_wave), axis=0)\n",
    "y_test = np.concatenate((y_test_blip,y_test_wave), axis=0)\n"
   ]
  },
  {
   "cell_type": "code",
   "execution_count": 52,
   "id": "cd9c4d31-4f60-421a-a87d-48c47ec89c5a",
   "metadata": {},
   "outputs": [
    {
     "data": {
      "text/plain": [
       "array([[1., 1., 1., ..., 1., 1., 1.],\n",
       "       [1., 1., 1., ..., 1., 1., 1.],\n",
       "       [1., 1., 1., ..., 1., 1., 1.],\n",
       "       ...,\n",
       "       [0., 0., 0., ..., 0., 0., 0.],\n",
       "       [0., 0., 0., ..., 0., 0., 0.],\n",
       "       [0., 0., 0., ..., 0., 0., 0.]])"
      ]
     },
     "execution_count": 52,
     "metadata": {},
     "output_type": "execute_result"
    }
   ],
   "source": [
    "y_train"
   ]
  },
  {
   "cell_type": "markdown",
   "id": "c0cd0e1c-a816-47a0-ad4a-bc806d45c5eb",
   "metadata": {},
   "source": [
    "## Visualize the data\n",
    "Here we visualize one timeseries example for each class in the dataset."
   ]
  },
  {
   "cell_type": "code",
   "execution_count": 54,
   "id": "4571797a-47c0-4108-baa0-9218f9c3681e",
   "metadata": {},
   "outputs": [
    {
     "name": "stdout",
     "output_type": "stream",
     "text": [
      "[0. 1.]\n"
     ]
    },
    {
     "data": {
      "image/png": "[encoded data removed]",
      "text/plain": [
       "<Figure size 640x480 with 1 Axes>"
      ]
     },
     "metadata": {},
     "output_type": "display_data"
    }
   ],
   "source": [
    "classes = np.unique(np.concatenate((y_train, y_test), axis=0))\n",
    "print(classes)\n",
    "\n",
    "plt.figure()\n",
    "for c in classes:\n",
    "    c_x_train = x_train[y_train == c]\n",
    "    plt.plot(c_x_train[0], label=\"class \" + str(c))\n",
    "    \n",
    "plt.legend(loc=\"best\")\n",
    "plt.show()\n",
    "plt.close()\n"
   ]
  },
  {
   "cell_type": "markdown",
   "id": "091100a7-efd7-4d38-9f1f-9dba70a5533b",
   "metadata": {},
   "source": [
    "## Standardize the data\n",
    "Our timeseries are already in a single length (500). However, their values are\n",
    "usually in various ranges. This is not ideal for a neural network;\n",
    "in general we should seek to make the input values normalized.\n",
    "For this specific dataset, the data is already z-normalized: each timeseries sample\n",
    "has a mean equal to zero and a standard deviation equal to one. This type of\n",
    "normalization is very common for timeseries classification problems, see\n",
    "[Bagnall et al. (2016)](https://link.springer.com/article/10.1007/s10618-016-0483-9).\n",
    "Note that the timeseries data used here are univariate, meaning we only have one channel\n",
    "per timeseries example.\n",
    "We will therefore transform the timeseries into a multivariate one with one channel\n",
    "using a simple reshaping via numpy.\n",
    "This will allow us to construct a model that is easily applicable to multivariate time\n",
    "series."
   ]
  },
  {
   "cell_type": "code",
   "execution_count": 32,
   "id": "14129d9e-b5c5-4edd-a788-a6ccf8911cfb",
   "metadata": {},
   "outputs": [],
   "source": [
    "x_train = x_train.reshape((x_train.shape[0], x_train.shape[1], 1))\n",
    "x_test = x_test.reshape((x_test.shape[0], x_test.shape[1], 1))"
   ]
  },
  {
   "cell_type": "markdown",
   "id": "bae6345f-e10b-49a1-b045-5b26af4bbfd7",
   "metadata": {},
   "source": [
    "Finally, in order to use `sparse_categorical_crossentropy`, we will have to count\n",
    "the number of classes beforehand."
   ]
  },
  {
   "cell_type": "code",
   "execution_count": 33,
   "id": "1a34ca8e-bb7d-4124-a434-3ed67cb955ae",
   "metadata": {},
   "outputs": [],
   "source": [
    "num_classes = len(np.unique(y_train))"
   ]
  },
  {
   "cell_type": "markdown",
   "id": "826de482-a910-4503-b04a-bfa4d42924bc",
   "metadata": {},
   "source": [
    "Now we shuffle the training set because we will be using the `validation_split` option\n",
    "later when training."
   ]
  },
  {
   "cell_type": "code",
   "execution_count": 34,
   "id": "fea5a575-2678-4568-b79a-3756c41f61f2",
   "metadata": {},
   "outputs": [],
   "source": [
    "idx = np.random.permutation(len(x_train))\n",
    "x_train = x_train[idx]\n",
    "y_train = y_train[idx]"
   ]
  },
  {
   "cell_type": "markdown",
   "id": "710cf40f-057a-423d-940c-5722e37ba739",
   "metadata": {},
   "source": [
    "Standardize the labels to positive integers.\n",
    "The expected labels will then be 0 and 1."
   ]
  },
  {
   "cell_type": "code",
   "execution_count": 35,
   "id": "043fc74f-3fb4-4d47-9057-9995abc39510",
   "metadata": {},
   "outputs": [],
   "source": [
    "y_train[y_train == -1] = 0\n",
    "y_test[y_test == -1] = 0"
   ]
  },
  {
   "cell_type": "markdown",
   "id": "65a8f767-0ce9-4d9c-8a5d-5285cb20119b",
   "metadata": {},
   "source": [
    "## Build a model\n",
    "We build a Fully Convolutional Neural Network originally proposed in\n",
    "[this paper](https://arxiv.org/abs/1611.06455).\n",
    "The implementation is based on the TF 2 version provided\n",
    "[here](https://github.com/hfawaz/dl-4-tsc/).\n",
    "The following hyperparameters (kernel_size, filters, the usage of BatchNorm) were found\n",
    "via random search using [KerasTuner](https://github.com/keras-team/keras-tuner)."
   ]
  },
  {
   "cell_type": "code",
   "execution_count": 36,
   "id": "e71707d1-574d-4191-9392-559f0d170042",
   "metadata": {},
   "outputs": [
    {
     "name": "stdout",
     "output_type": "stream",
     "text": [
      "('You must install pydot (`pip install pydot`) and install graphviz (see instructions at https://graphviz.gitlab.io/download/) ', 'for plot_model/model_to_dot to work.')\n"
     ]
    }
   ],
   "source": [
    "def make_model(input_shape):\n",
    "    input_layer = keras.layers.Input(input_shape)\n",
    "\n",
    "    conv1 = keras.layers.Conv1D(filters=64, kernel_size=3, padding=\"same\")(input_layer)\n",
    "    conv1 = keras.layers.BatchNormalization()(conv1)\n",
    "    conv1 = keras.layers.ReLU()(conv1)\n",
    "\n",
    "    conv2 = keras.layers.Conv1D(filters=64, kernel_size=3, padding=\"same\")(conv1)\n",
    "    conv2 = keras.layers.BatchNormalization()(conv2)\n",
    "    conv2 = keras.layers.ReLU()(conv2)\n",
    "\n",
    "    conv3 = keras.layers.Conv1D(filters=64, kernel_size=3, padding=\"same\")(conv2)\n",
    "    conv3 = keras.layers.BatchNormalization()(conv3)\n",
    "    conv3 = keras.layers.ReLU()(conv3)\n",
    "\n",
    "    gap = keras.layers.GlobalAveragePooling1D()(conv3)\n",
    "\n",
    "    output_layer = keras.layers.Dense(num_classes, activation=\"softmax\")(gap)\n",
    "\n",
    "    return keras.models.Model(inputs=input_layer, outputs=output_layer)\n",
    "\n",
    "\n",
    "model = make_model(input_shape=x_train.shape[1:])\n",
    "keras.utils.plot_model(model, show_shapes=True)"
   ]
  },
  {
   "cell_type": "markdown",
   "id": "cb5493e4-caf1-487e-9d9e-f9e550f7575b",
   "metadata": {
    "jp-MarkdownHeadingCollapsed": true,
    "tags": []
   },
   "source": [
    "## Train the model"
   ]
  },
  {
   "cell_type": "code",
   "execution_count": 37,
   "id": "f3f702bb-1470-465c-8387-77c67460b398",
   "metadata": {},
   "outputs": [
    {
     "name": "stdout",
     "output_type": "stream",
     "text": [
      "Epoch 1/50\n",
      "90/90 [==============================] - 3s 21ms/step - loss: 0.5777 - sparse_categorical_accuracy: 0.7028 - val_loss: 0.7361 - val_sparse_categorical_accuracy: 0.4674\n",
      "Epoch 2/50\n",
      "90/90 [==============================] - 2s 18ms/step - loss: 0.4714 - sparse_categorical_accuracy: 0.7694 - val_loss: 0.8518 - val_sparse_categorical_accuracy: 0.4674\n",
      "Epoch 3/50\n",
      "90/90 [==============================] - 2s 19ms/step - loss: 0.4450 - sparse_categorical_accuracy: 0.7792 - val_loss: 0.9263 - val_sparse_categorical_accuracy: 0.4674\n",
      "Epoch 4/50\n",
      "90/90 [==============================] - 2s 19ms/step - loss: 0.4239 - sparse_categorical_accuracy: 0.7906 - val_loss: 0.8498 - val_sparse_categorical_accuracy: 0.4730\n",
      "Epoch 5/50\n",
      "90/90 [==============================] - 2s 19ms/step - loss: 0.4111 - sparse_categorical_accuracy: 0.8000 - val_loss: 0.6409 - val_sparse_categorical_accuracy: 0.6158\n",
      "Epoch 6/50\n",
      "90/90 [==============================] - 2s 19ms/step - loss: 0.4108 - sparse_categorical_accuracy: 0.7962 - val_loss: 0.5750 - val_sparse_categorical_accuracy: 0.6172\n",
      "Epoch 7/50\n",
      "90/90 [==============================] - 2s 19ms/step - loss: 0.4084 - sparse_categorical_accuracy: 0.7958 - val_loss: 0.3996 - val_sparse_categorical_accuracy: 0.8211\n",
      "Epoch 8/50\n",
      "90/90 [==============================] - 2s 19ms/step - loss: 0.3851 - sparse_categorical_accuracy: 0.8066 - val_loss: 0.3873 - val_sparse_categorical_accuracy: 0.8017\n",
      "Epoch 9/50\n",
      "90/90 [==============================] - 2s 19ms/step - loss: 0.3802 - sparse_categorical_accuracy: 0.8125 - val_loss: 0.3774 - val_sparse_categorical_accuracy: 0.8266\n",
      "Epoch 10/50\n",
      "90/90 [==============================] - 2s 18ms/step - loss: 0.3786 - sparse_categorical_accuracy: 0.8188 - val_loss: 0.3803 - val_sparse_categorical_accuracy: 0.8308\n",
      "Epoch 11/50\n",
      "90/90 [==============================] - 2s 18ms/step - loss: 0.3826 - sparse_categorical_accuracy: 0.8146 - val_loss: 1.1962 - val_sparse_categorical_accuracy: 0.6519\n",
      "Epoch 12/50\n",
      "90/90 [==============================] - 2s 19ms/step - loss: 0.3692 - sparse_categorical_accuracy: 0.8240 - val_loss: 0.4566 - val_sparse_categorical_accuracy: 0.7614\n",
      "Epoch 13/50\n",
      "90/90 [==============================] - 2s 19ms/step - loss: 0.3634 - sparse_categorical_accuracy: 0.8271 - val_loss: 0.4525 - val_sparse_categorical_accuracy: 0.7684\n",
      "Epoch 14/50\n",
      "90/90 [==============================] - 2s 19ms/step - loss: 0.3490 - sparse_categorical_accuracy: 0.8413 - val_loss: 0.3722 - val_sparse_categorical_accuracy: 0.8183\n",
      "Epoch 15/50\n",
      "90/90 [==============================] - 2s 18ms/step - loss: 0.3477 - sparse_categorical_accuracy: 0.8389 - val_loss: 0.4336 - val_sparse_categorical_accuracy: 0.7462\n",
      "Epoch 16/50\n",
      "90/90 [==============================] - 2s 18ms/step - loss: 0.3351 - sparse_categorical_accuracy: 0.8493 - val_loss: 0.3417 - val_sparse_categorical_accuracy: 0.8377\n",
      "Epoch 17/50\n",
      "90/90 [==============================] - 2s 18ms/step - loss: 0.3337 - sparse_categorical_accuracy: 0.8483 - val_loss: 0.8774 - val_sparse_categorical_accuracy: 0.5881\n",
      "Epoch 18/50\n",
      "90/90 [==============================] - 2s 18ms/step - loss: 0.3380 - sparse_categorical_accuracy: 0.8382 - val_loss: 0.3182 - val_sparse_categorical_accuracy: 0.8585\n",
      "Epoch 19/50\n",
      "90/90 [==============================] - 2s 18ms/step - loss: 0.3109 - sparse_categorical_accuracy: 0.8681 - val_loss: 0.3123 - val_sparse_categorical_accuracy: 0.8669\n",
      "Epoch 20/50\n",
      "90/90 [==============================] - 2s 19ms/step - loss: 0.3247 - sparse_categorical_accuracy: 0.8594 - val_loss: 0.4659 - val_sparse_categorical_accuracy: 0.7434\n",
      "Epoch 21/50\n",
      "90/90 [==============================] - 2s 18ms/step - loss: 0.3126 - sparse_categorical_accuracy: 0.8580 - val_loss: 0.3990 - val_sparse_categorical_accuracy: 0.7684\n",
      "Epoch 22/50\n",
      "90/90 [==============================] - 2s 18ms/step - loss: 0.3001 - sparse_categorical_accuracy: 0.8694 - val_loss: 0.6903 - val_sparse_categorical_accuracy: 0.6394\n",
      "Epoch 23/50\n",
      "90/90 [==============================] - 2s 18ms/step - loss: 0.2976 - sparse_categorical_accuracy: 0.8684 - val_loss: 0.6227 - val_sparse_categorical_accuracy: 0.7004\n",
      "Epoch 24/50\n",
      "90/90 [==============================] - 2s 18ms/step - loss: 0.2886 - sparse_categorical_accuracy: 0.8788 - val_loss: 0.8839 - val_sparse_categorical_accuracy: 0.7143\n",
      "Epoch 25/50\n",
      "90/90 [==============================] - 2s 18ms/step - loss: 0.2945 - sparse_categorical_accuracy: 0.8774 - val_loss: 0.3732 - val_sparse_categorical_accuracy: 0.7850\n",
      "Epoch 26/50\n",
      "90/90 [==============================] - 2s 19ms/step - loss: 0.2909 - sparse_categorical_accuracy: 0.8760 - val_loss: 1.0343 - val_sparse_categorical_accuracy: 0.6949\n",
      "Epoch 27/50\n",
      "90/90 [==============================] - 2s 19ms/step - loss: 0.2928 - sparse_categorical_accuracy: 0.8750 - val_loss: 0.3260 - val_sparse_categorical_accuracy: 0.8641\n",
      "Epoch 28/50\n",
      "90/90 [==============================] - 2s 19ms/step - loss: 0.2922 - sparse_categorical_accuracy: 0.8708 - val_loss: 0.3500 - val_sparse_categorical_accuracy: 0.8391\n",
      "Epoch 29/50\n",
      "90/90 [==============================] - 2s 18ms/step - loss: 0.2728 - sparse_categorical_accuracy: 0.8875 - val_loss: 0.3321 - val_sparse_categorical_accuracy: 0.8460\n",
      "Epoch 30/50\n",
      "90/90 [==============================] - 2s 18ms/step - loss: 0.2641 - sparse_categorical_accuracy: 0.8872 - val_loss: 0.3249 - val_sparse_categorical_accuracy: 0.8447\n",
      "Epoch 31/50\n",
      "90/90 [==============================] - 2s 18ms/step - loss: 0.2599 - sparse_categorical_accuracy: 0.8944 - val_loss: 0.4372 - val_sparse_categorical_accuracy: 0.7628\n",
      "Epoch 32/50\n",
      "90/90 [==============================] - 2s 18ms/step - loss: 0.2621 - sparse_categorical_accuracy: 0.8885 - val_loss: 0.4781 - val_sparse_categorical_accuracy: 0.7295\n",
      "Epoch 33/50\n",
      "90/90 [==============================] - 2s 19ms/step - loss: 0.2611 - sparse_categorical_accuracy: 0.8868 - val_loss: 0.3573 - val_sparse_categorical_accuracy: 0.8211\n",
      "Epoch 34/50\n",
      "90/90 [==============================] - 2s 18ms/step - loss: 0.2654 - sparse_categorical_accuracy: 0.8917 - val_loss: 0.5038 - val_sparse_categorical_accuracy: 0.7836\n",
      "Epoch 35/50\n",
      "90/90 [==============================] - 2s 19ms/step - loss: 0.2636 - sparse_categorical_accuracy: 0.8885 - val_loss: 0.8582 - val_sparse_categorical_accuracy: 0.7101\n",
      "Epoch 36/50\n",
      "90/90 [==============================] - 2s 19ms/step - loss: 0.2432 - sparse_categorical_accuracy: 0.9059 - val_loss: 1.3154 - val_sparse_categorical_accuracy: 0.6865\n",
      "Epoch 37/50\n",
      "90/90 [==============================] - 2s 18ms/step - loss: 0.2571 - sparse_categorical_accuracy: 0.8965 - val_loss: 0.8012 - val_sparse_categorical_accuracy: 0.7004\n",
      "Epoch 38/50\n",
      "90/90 [==============================] - 2s 18ms/step - loss: 0.2498 - sparse_categorical_accuracy: 0.8934 - val_loss: 0.6689 - val_sparse_categorical_accuracy: 0.6949\n",
      "Epoch 39/50\n",
      "90/90 [==============================] - 2s 18ms/step - loss: 0.2502 - sparse_categorical_accuracy: 0.8969 - val_loss: 0.2970 - val_sparse_categorical_accuracy: 0.8613\n",
      "Epoch 40/50\n",
      "90/90 [==============================] - 2s 18ms/step - loss: 0.2450 - sparse_categorical_accuracy: 0.8965 - val_loss: 0.3292 - val_sparse_categorical_accuracy: 0.8488\n",
      "Epoch 41/50\n",
      "90/90 [==============================] - 2s 18ms/step - loss: 0.2359 - sparse_categorical_accuracy: 0.9007 - val_loss: 0.2913 - val_sparse_categorical_accuracy: 0.8821\n",
      "Epoch 42/50\n",
      "90/90 [==============================] - 2s 18ms/step - loss: 0.2396 - sparse_categorical_accuracy: 0.9014 - val_loss: 1.2956 - val_sparse_categorical_accuracy: 0.6976\n",
      "Epoch 43/50\n",
      "90/90 [==============================] - 2s 18ms/step - loss: 0.2297 - sparse_categorical_accuracy: 0.9003 - val_loss: 0.3147 - val_sparse_categorical_accuracy: 0.8655\n",
      "Epoch 44/50\n",
      "90/90 [==============================] - 2s 18ms/step - loss: 0.2364 - sparse_categorical_accuracy: 0.9035 - val_loss: 0.2546 - val_sparse_categorical_accuracy: 0.8918\n",
      "Epoch 45/50\n",
      "90/90 [==============================] - 2s 18ms/step - loss: 0.2362 - sparse_categorical_accuracy: 0.9007 - val_loss: 0.3825 - val_sparse_categorical_accuracy: 0.8086\n",
      "Epoch 46/50\n",
      "90/90 [==============================] - 2s 19ms/step - loss: 0.2338 - sparse_categorical_accuracy: 0.9059 - val_loss: 0.2348 - val_sparse_categorical_accuracy: 0.9126\n",
      "Epoch 47/50\n",
      "90/90 [==============================] - 2s 18ms/step - loss: 0.2288 - sparse_categorical_accuracy: 0.9073 - val_loss: 0.6863 - val_sparse_categorical_accuracy: 0.6990\n",
      "Epoch 48/50\n",
      "90/90 [==============================] - 2s 18ms/step - loss: 0.2294 - sparse_categorical_accuracy: 0.9052 - val_loss: 0.5175 - val_sparse_categorical_accuracy: 0.7365\n",
      "Epoch 49/50\n",
      "90/90 [==============================] - 2s 19ms/step - loss: 0.2271 - sparse_categorical_accuracy: 0.8997 - val_loss: 0.2601 - val_sparse_categorical_accuracy: 0.9043\n",
      "Epoch 50/50\n",
      "90/90 [==============================] - 2s 19ms/step - loss: 0.2085 - sparse_categorical_accuracy: 0.9201 - val_loss: 0.2929 - val_sparse_categorical_accuracy: 0.8738\n"
     ]
    }
   ],
   "source": [
    "epochs = 50\n",
    "batch_size = 32\n",
    "\n",
    "callbacks = [\n",
    "    keras.callbacks.ModelCheckpoint(\n",
    "        \"best_model.h5\", save_best_only=True, monitor=\"val_loss\"\n",
    "    ),\n",
    "    keras.callbacks.ReduceLROnPlateau(\n",
    "        monitor=\"val_loss\", factor=0.5, patience=20, min_lr=0.0001\n",
    "    ),\n",
    "    keras.callbacks.EarlyStopping(monitor=\"val_loss\", patience=50, verbose=1),\n",
    "]\n",
    "model.compile(\n",
    "    optimizer=\"adam\",\n",
    "    loss=\"sparse_categorical_crossentropy\",\n",
    "    metrics=[\"sparse_categorical_accuracy\"],\n",
    ")\n",
    "history = model.fit(\n",
    "    x_train,\n",
    "    y_train,\n",
    "    batch_size=batch_size,\n",
    "    epochs=epochs,\n",
    "    callbacks=callbacks,\n",
    "    validation_split=0.2,\n",
    "    verbose=1,\n",
    ")"
   ]
  },
  {
   "cell_type": "markdown",
   "id": "69f52832-1eaf-4fba-b5cf-cfc962ec5caa",
   "metadata": {},
   "source": [
    "## Evaluate model on test data"
   ]
  },
  {
   "cell_type": "code",
   "execution_count": 38,
   "id": "e62e4f51-85fa-4f51-931d-c54cfbca68ea",
   "metadata": {},
   "outputs": [
    {
     "name": "stdout",
     "output_type": "stream",
     "text": [
      "42/42 [==============================] - 0s 6ms/step - loss: 0.2240 - sparse_categorical_accuracy: 0.9152\n",
      "Test accuracy 0.9151515364646912\n",
      "Test loss 0.22397054731845856\n"
     ]
    }
   ],
   "source": [
    "model = keras.models.load_model(\"best_model.h5\")\n",
    "\n",
    "test_loss, test_acc = model.evaluate(x_test, y_test)\n",
    "\n",
    "print(\"Test accuracy\", test_acc)\n",
    "print(\"Test loss\", test_loss)"
   ]
  },
  {
   "cell_type": "markdown",
   "id": "542a5eef-9257-4284-941d-bfb19d94514d",
   "metadata": {},
   "source": [
    "## Plot the model's training and validation loss"
   ]
  },
  {
   "cell_type": "code",
   "execution_count": 39,
   "id": "57470c59-9914-44d5-9f41-e7e2ad6a504a",
   "metadata": {},
   "outputs": [
    {
     "data": {
      "image/png": "[encoded data removed]",
      "text/plain": [
       "<Figure size 640x480 with 1 Axes>"
      ]
     },
     "metadata": {},
     "output_type": "display_data"
    }
   ],
   "source": [
    "metric = \"sparse_categorical_accuracy\"\n",
    "plt.figure()\n",
    "plt.plot(history.history[metric])\n",
    "plt.plot(history.history[\"val_\" + metric])\n",
    "plt.title(\"model \" + metric)\n",
    "plt.ylabel(metric, fontsize=\"large\")\n",
    "plt.xlabel(\"epoch\", fontsize=\"large\")\n",
    "plt.legend([\"train\", \"val\"], loc=\"best\")\n",
    "plt.show()\n",
    "plt.close()"
   ]
  },
  {
   "cell_type": "markdown",
   "id": "4a696152-fea2-49f3-8216-eab2e87a88a7",
   "metadata": {},
   "source": [
    "We can see how the training accuracy reaches almost 0.95 after 100 epochs.\n",
    "However, by observing the validation accuracy we can see how the network still needs\n",
    "training until it reaches almost 0.97 for both the validation and the training accuracy\n",
    "after 200 epochs. Beyond the 200th epoch, if we continue on training, the validation\n",
    "accuracy will start decreasing while the training accuracy will continue on increasing:\n",
    "the model starts overfitting."
   ]
  },
  {
   "cell_type": "code",
   "execution_count": 40,
   "id": "0d9c9a0d-9dbd-4bea-b146-85fb5ffd8abd",
   "metadata": {},
   "outputs": [
    {
     "name": "stdout",
     "output_type": "stream",
     "text": [
      "Prediction|True Value\n",
      "0|0\n",
      "0|0\n",
      "0|0\n",
      "1|1\n",
      "0|0\n",
      "1|1\n",
      "0|0\n",
      "0|0\n",
      "1|1\n",
      "1|1\n"
     ]
    }
   ],
   "source": [
    "out = model.predict(x_test)\n",
    "print(\"Prediction|True Value\")\n",
    "for i in np.arange(10):\n",
    "    print(f\"{out[i][1]:.0f}|{y_test[i]}\")"
   ]
  },
  {
   "cell_type": "code",
   "execution_count": null,
   "id": "222810e3-99fc-4258-be7b-ee7bd2a72bc5",
   "metadata": {},
   "outputs": [],
   "source": []
  }
 ],
 "metadata": {
  "kernelspec": {
   "display_name": "Python 3 (ipykernel)",
   "language": "python",
   "name": "python3"
  },
  "language_info": {
   "codemirror_mode": {
    "name": "ipython",
    "version": 3
   },
   "file_extension": ".py",
   "mimetype": "text/x-python",
   "name": "python",
   "nbconvert_exporter": "python",
   "pygments_lexer": "ipython3",
   "version": "3.9.13"
  }
 },
 "nbformat": 4,
 "nbformat_minor": 5
}
